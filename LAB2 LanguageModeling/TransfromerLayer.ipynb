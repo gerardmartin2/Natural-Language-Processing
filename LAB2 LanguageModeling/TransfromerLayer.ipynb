{
 "cells": [
  {
   "cell_type": "code",
   "execution_count": 1,
   "id": "b8ff5f73",
   "metadata": {
    "_cell_guid": "b1076dfc-b9ad-4769-8c92-a6c4dae69d19",
    "_uuid": "8f2839f25d086af736a60e9eeb907d3b93b6e0e5",
    "execution": {
     "iopub.execute_input": "2023-04-02T08:29:14.881672Z",
     "iopub.status.busy": "2023-04-02T08:29:14.881191Z",
     "iopub.status.idle": "2023-04-02T08:29:16.445621Z",
     "shell.execute_reply": "2023-04-02T08:29:16.444585Z"
    },
    "papermill": {
     "duration": 1.576524,
     "end_time": "2023-04-02T08:29:16.448344",
     "exception": false,
     "start_time": "2023-04-02T08:29:14.871820",
     "status": "completed"
    },
    "tags": []
   },
   "outputs": [],
   "source": [
    "from types import SimpleNamespace\n",
    "from collections import Counter\n",
    "import os\n",
    "import re\n",
    "import pathlib\n",
    "import array\n",
    "import pickle\n",
    "import numpy as np\n",
    "import torch\n",
    "import torch.nn as nn\n",
    "import torch.nn.functional as F\n",
    "import pandas as pd\n",
    "import math"
   ]
  },
  {
   "cell_type": "code",
   "execution_count": 2,
   "id": "c0fdadcc",
   "metadata": {
    "_cell_guid": "79c7e3d0-c299-4dcb-8224-4455121ee9b0",
    "_uuid": "d629ff2d2480ee46fbb7e2d37f6b5fab8052498a",
    "execution": {
     "iopub.execute_input": "2023-04-02T08:29:16.462347Z",
     "iopub.status.busy": "2023-04-02T08:29:16.460707Z",
     "iopub.status.idle": "2023-04-02T08:29:16.466731Z",
     "shell.execute_reply": "2023-04-02T08:29:16.465874Z"
    },
    "papermill": {
     "duration": 0.014566,
     "end_time": "2023-04-02T08:29:16.468711",
     "exception": false,
     "start_time": "2023-04-02T08:29:16.454145",
     "status": "completed"
    },
    "tags": []
   },
   "outputs": [],
   "source": [
    "DATASET_VERSION = 'ca-100'\n",
    "COMPETITION_ROOT = '../input/vectors4'\n",
    "DATASET_ROOT = f'../input/text-preprocessing/data/{DATASET_VERSION}'\n",
    "WORKING_ROOT = f'data/{DATASET_VERSION}'\n",
    "DATASET_PREFIX = 'ca.wiki'"
   ]
  },
  {
   "cell_type": "code",
   "execution_count": 3,
   "id": "4fd57bf0",
   "metadata": {
    "execution": {
     "iopub.execute_input": "2023-04-02T08:29:16.491285Z",
     "iopub.status.busy": "2023-04-02T08:29:16.490383Z",
     "iopub.status.idle": "2023-04-02T08:29:16.501044Z",
     "shell.execute_reply": "2023-04-02T08:29:16.497881Z"
    },
    "papermill": {
     "duration": 0.030187,
     "end_time": "2023-04-02T08:29:16.505704",
     "exception": false,
     "start_time": "2023-04-02T08:29:16.475517",
     "status": "completed"
    },
    "tags": []
   },
   "outputs": [],
   "source": [
    "params = SimpleNamespace(\n",
    "    embedding_dim = 300,\n",
    "    window_size = 7,\n",
    "    batch_size = 2048,\n",
    "    epochs = 4,\n",
    "    preprocessed = f'{DATASET_ROOT}/{DATASET_PREFIX}',\n",
    "    working = f'{WORKING_ROOT}/{DATASET_PREFIX}',\n",
    "    modelname = f'{WORKING_ROOT}/{DATASET_VERSION}.pt',\n",
    "    train = True,\n",
    ")"
   ]
  },
  {
   "cell_type": "code",
   "execution_count": 4,
   "id": "cc5696fe",
   "metadata": {
    "execution": {
     "iopub.execute_input": "2023-04-02T08:29:16.526488Z",
     "iopub.status.busy": "2023-04-02T08:29:16.525662Z",
     "iopub.status.idle": "2023-04-02T08:29:16.545769Z",
     "shell.execute_reply": "2023-04-02T08:29:16.544935Z"
    },
    "papermill": {
     "duration": 0.031894,
     "end_time": "2023-04-02T08:29:16.548645",
     "exception": false,
     "start_time": "2023-04-02T08:29:16.516751",
     "status": "completed"
    },
    "tags": []
   },
   "outputs": [],
   "source": [
    "class Vocabulary(object):\n",
    "    def __init__(self, pad_token='<pad>', unk_token='<unk>', eos_token='<eos>'):\n",
    "        self.token2idx = {}\n",
    "        self.idx2token = []\n",
    "        self.pad_token = pad_token\n",
    "        self.unk_token = unk_token\n",
    "        self.eos_token = eos_token\n",
    "        if pad_token is not None:\n",
    "            self.pad_index = self.add_token(pad_token)\n",
    "        if unk_token is not None:\n",
    "            self.unk_index = self.add_token(unk_token)\n",
    "        if eos_token is not None:\n",
    "            self.eos_index = self.add_token(eos_token)\n",
    "\n",
    "    def add_token(self, token):\n",
    "        if token not in self.token2idx:\n",
    "            self.idx2token.append(token)\n",
    "            self.token2idx[token] = len(self.idx2token) - 1\n",
    "        return self.token2idx[token]\n",
    "\n",
    "    def get_index(self, token):\n",
    "        if isinstance(token, str):\n",
    "            return self.token2idx.get(token, self.unk_index)\n",
    "        else:\n",
    "            return [self.token2idx.get(t, self.unk_index) for t in token]\n",
    "\n",
    "    def get_token(self, index):\n",
    "        return self.idx2token[index]\n",
    "\n",
    "    def __len__(self):\n",
    "        return len(self.idx2token)\n",
    "\n",
    "    def save(self, filename):\n",
    "        with open(filename, 'wb') as f:\n",
    "            pickle.dump(self.__dict__, f)\n",
    "\n",
    "    def load(self, filename):\n",
    "        with open(filename, 'rb') as f:\n",
    "            self.__dict__.update(pickle.load(f))"
   ]
  },
  {
   "cell_type": "code",
   "execution_count": 5,
   "id": "2efb76f1",
   "metadata": {
    "execution": {
     "iopub.execute_input": "2023-04-02T08:29:16.565575Z",
     "iopub.status.busy": "2023-04-02T08:29:16.565234Z",
     "iopub.status.idle": "2023-04-02T08:29:16.571367Z",
     "shell.execute_reply": "2023-04-02T08:29:16.570398Z"
    },
    "papermill": {
     "duration": 0.016075,
     "end_time": "2023-04-02T08:29:16.573455",
     "exception": false,
     "start_time": "2023-04-02T08:29:16.557380",
     "status": "completed"
    },
    "tags": []
   },
   "outputs": [],
   "source": [
    "def batch_generator(idata, target, batch_size, shuffle=True):\n",
    "    nsamples = len(idata)\n",
    "    if shuffle:\n",
    "        perm = np.random.permutation(nsamples)\n",
    "    else:\n",
    "        perm = range(nsamples)\n",
    "\n",
    "    for i in range(0, nsamples, batch_size):\n",
    "        batch_idx = perm[i:i+batch_size]\n",
    "        if target is not None:\n",
    "            yield idata[batch_idx], target[batch_idx]\n",
    "        else:\n",
    "            yield idata[batch_idx], None"
   ]
  },
  {
   "cell_type": "code",
   "execution_count": 6,
   "id": "9fe5814e",
   "metadata": {
    "execution": {
     "iopub.execute_input": "2023-04-02T08:29:16.584786Z",
     "iopub.status.busy": "2023-04-02T08:29:16.584509Z",
     "iopub.status.idle": "2023-04-02T08:29:16.590527Z",
     "shell.execute_reply": "2023-04-02T08:29:16.589532Z"
    },
    "papermill": {
     "duration": 0.014002,
     "end_time": "2023-04-02T08:29:16.592534",
     "exception": false,
     "start_time": "2023-04-02T08:29:16.578532",
     "status": "completed"
    },
    "tags": []
   },
   "outputs": [],
   "source": [
    "def load_preprocessed_dataset(prefix):\n",
    "    # Try loading precomputed vocabulary and preprocessed data files\n",
    "    token_vocab = Vocabulary()\n",
    "    token_vocab.load(f'{prefix}.vocab')\n",
    "    data = []\n",
    "    for part in ['train', 'valid', 'test']:\n",
    "        with np.load(f'{prefix}.{part}.npz') as set_data:\n",
    "            idata, target = set_data['idata'], set_data['target']\n",
    "            data.append((idata, target))\n",
    "            print(f'Number of samples ({part}): {len(target)}')\n",
    "    print(\"Using precomputed vocabulary and data files\")\n",
    "    print(f'Vocabulary size: {len(token_vocab)}')\n",
    "    return token_vocab, data"
   ]
  },
  {
   "cell_type": "code",
   "execution_count": 7,
   "id": "fca79eef",
   "metadata": {
    "execution": {
     "iopub.execute_input": "2023-04-02T08:29:16.603749Z",
     "iopub.status.busy": "2023-04-02T08:29:16.603475Z",
     "iopub.status.idle": "2023-04-02T08:29:16.612632Z",
     "shell.execute_reply": "2023-04-02T08:29:16.611789Z"
    },
    "papermill": {
     "duration": 0.017006,
     "end_time": "2023-04-02T08:29:16.614574",
     "exception": false,
     "start_time": "2023-04-02T08:29:16.597568",
     "status": "completed"
    },
    "tags": []
   },
   "outputs": [],
   "source": [
    "def train(model, criterion, optimizer, idata, target, batch_size, device, log=False):\n",
    "    model.train()\n",
    "    total_loss = 0\n",
    "    ncorrect = 0\n",
    "    ntokens = 0\n",
    "    niterations = 0\n",
    "    for X, y in batch_generator(idata, target, batch_size, shuffle=True):\n",
    "        # Get input and target sequences from batch\n",
    "        X = torch.tensor(X, dtype=torch.long, device=device)\n",
    "        y = torch.tensor(y, dtype=torch.long, device=device)\n",
    "\n",
    "        model.zero_grad()\n",
    "        output = model(X)\n",
    "        loss = criterion(output, y)\n",
    "        loss.backward()\n",
    "        optimizer.step()\n",
    "        # Training statistics\n",
    "        total_loss += loss.item()\n",
    "        ncorrect += (torch.max(output, 1)[1] == y).sum().item()\n",
    "        ntokens += y.numel()\n",
    "        niterations += 1\n",
    "        if niterations == 200 or niterations == 500 or niterations % 1000 == 0:\n",
    "            print(f'Train: wpb={ntokens//niterations}, num_updates={niterations}, accuracy={100*ncorrect/ntokens:.1f}, loss={total_loss/ntokens:.2f}')\n",
    "\n",
    "    total_loss = total_loss / ntokens\n",
    "    accuracy = 100 * ncorrect / ntokens\n",
    "    if log:\n",
    "        print(f'Train: wpb={ntokens//niterations}, num_updates={niterations}, accuracy={accuracy:.1f}, loss={total_loss:.2f}')\n",
    "    return accuracy, total_loss"
   ]
  },
  {
   "cell_type": "code",
   "execution_count": 8,
   "id": "1a03ac4e",
   "metadata": {
    "execution": {
     "iopub.execute_input": "2023-04-02T08:29:16.627952Z",
     "iopub.status.busy": "2023-04-02T08:29:16.627245Z",
     "iopub.status.idle": "2023-04-02T08:29:16.635679Z",
     "shell.execute_reply": "2023-04-02T08:29:16.634791Z"
    },
    "papermill": {
     "duration": 0.017992,
     "end_time": "2023-04-02T08:29:16.637698",
     "exception": false,
     "start_time": "2023-04-02T08:29:16.619706",
     "status": "completed"
    },
    "tags": []
   },
   "outputs": [],
   "source": [
    "def validate(model, criterion, idata, target, batch_size, device):\n",
    "    model.eval()\n",
    "    total_loss = 0\n",
    "    ncorrect = 0\n",
    "    ntokens = 0\n",
    "    niterations = 0\n",
    "    y_pred = []\n",
    "    with torch.no_grad():\n",
    "        for X, y in batch_generator(idata, target, batch_size, shuffle=False):\n",
    "            # Get input and target sequences from batch\n",
    "            X = torch.tensor(X, dtype=torch.long, device=device)\n",
    "            output = model(X)\n",
    "            if target is not None:\n",
    "                y = torch.tensor(y, dtype=torch.long, device=device)\n",
    "                loss = criterion(output, y)\n",
    "                total_loss += loss.item()\n",
    "                ncorrect += (torch.max(output, 1)[1] == y).sum().item()\n",
    "                ntokens += y.numel()\n",
    "                niterations += 1\n",
    "            else:\n",
    "                pred = torch.max(output, 1)[1].detach().to('cpu').numpy()\n",
    "                y_pred.append(pred)\n",
    "\n",
    "    if target is not None:\n",
    "        total_loss = total_loss / ntokens\n",
    "        accuracy = 100 * ncorrect / ntokens\n",
    "        return accuracy, total_loss\n",
    "    else:\n",
    "        return np.concatenate(y_pred)"
   ]
  },
  {
   "cell_type": "code",
   "execution_count": 9,
   "id": "5df163b3",
   "metadata": {
    "execution": {
     "iopub.execute_input": "2023-04-02T08:29:16.650590Z",
     "iopub.status.busy": "2023-04-02T08:29:16.649085Z",
     "iopub.status.idle": "2023-04-02T08:29:16.654579Z",
     "shell.execute_reply": "2023-04-02T08:29:16.653679Z"
    },
    "papermill": {
     "duration": 0.013758,
     "end_time": "2023-04-02T08:29:16.656607",
     "exception": false,
     "start_time": "2023-04-02T08:29:16.642849",
     "status": "completed"
    },
    "tags": []
   },
   "outputs": [],
   "source": [
    "# Create working dir\n",
    "pathlib.Path(WORKING_ROOT).mkdir(parents=True, exist_ok=True)"
   ]
  },
  {
   "cell_type": "code",
   "execution_count": 10,
   "id": "b2fe3e8b",
   "metadata": {
    "execution": {
     "iopub.execute_input": "2023-04-02T08:29:16.669202Z",
     "iopub.status.busy": "2023-04-02T08:29:16.667746Z",
     "iopub.status.idle": "2023-04-02T08:29:16.726933Z",
     "shell.execute_reply": "2023-04-02T08:29:16.726021Z"
    },
    "papermill": {
     "duration": 0.067356,
     "end_time": "2023-04-02T08:29:16.729175",
     "exception": false,
     "start_time": "2023-04-02T08:29:16.661819",
     "status": "completed"
    },
    "tags": []
   },
   "outputs": [],
   "source": [
    "# Select device\n",
    "if torch.cuda.is_available():\n",
    "    device = torch.device('cuda')\n",
    "else:\n",
    "    device = torch.device('cpu')\n",
    "    print(\"WARNING: Training without GPU can be very slow!\")"
   ]
  },
  {
   "cell_type": "code",
   "execution_count": 11,
   "id": "b4652fbb",
   "metadata": {
    "execution": {
     "iopub.execute_input": "2023-04-02T08:29:16.741209Z",
     "iopub.status.busy": "2023-04-02T08:29:16.740867Z",
     "iopub.status.idle": "2023-04-02T08:29:35.468956Z",
     "shell.execute_reply": "2023-04-02T08:29:35.467153Z"
    },
    "papermill": {
     "duration": 18.73662,
     "end_time": "2023-04-02T08:29:35.471211",
     "exception": false,
     "start_time": "2023-04-02T08:29:16.734591",
     "status": "completed"
    },
    "tags": []
   },
   "outputs": [
    {
     "name": "stdout",
     "output_type": "stream",
     "text": [
      "Number of samples (train): 82284341\n",
      "Number of samples (valid): 164765\n",
      "Number of samples (test): 165837\n",
      "Using precomputed vocabulary and data files\n",
      "Vocabulary size: 100002\n"
     ]
    }
   ],
   "source": [
    "vocab, data = load_preprocessed_dataset(params.preprocessed)"
   ]
  },
  {
   "cell_type": "code",
   "execution_count": 12,
   "id": "52b653bf",
   "metadata": {
    "execution": {
     "iopub.execute_input": "2023-04-02T08:29:35.485145Z",
     "iopub.status.busy": "2023-04-02T08:29:35.483133Z",
     "iopub.status.idle": "2023-04-02T08:29:35.645896Z",
     "shell.execute_reply": "2023-04-02T08:29:35.644921Z"
    },
    "papermill": {
     "duration": 0.171664,
     "end_time": "2023-04-02T08:29:35.648480",
     "exception": false,
     "start_time": "2023-04-02T08:29:35.476816",
     "status": "completed"
    },
    "tags": []
   },
   "outputs": [],
   "source": [
    "# 'El Periodico' validation dataset\n",
    "valid_x_df = pd.read_csv(f'{COMPETITION_ROOT}/x_valid.csv')\n",
    "tokens = valid_x_df.columns[1:]\n",
    "valid_x = valid_x_df[tokens].apply(vocab.get_index).to_numpy(dtype='int32')\n",
    "valid_y_df = pd.read_csv(f'{COMPETITION_ROOT}/y_valid.csv')\n",
    "valid_y = valid_y_df['token'].apply(vocab.get_index).to_numpy(dtype='int32')"
   ]
  },
  {
   "cell_type": "code",
   "execution_count": 13,
   "id": "f0150e5b",
   "metadata": {
    "execution": {
     "iopub.execute_input": "2023-04-02T08:29:35.660937Z",
     "iopub.status.busy": "2023-04-02T08:29:35.660621Z",
     "iopub.status.idle": "2023-04-02T08:29:35.667855Z",
     "shell.execute_reply": "2023-04-02T08:29:35.666938Z"
    },
    "papermill": {
     "duration": 0.015859,
     "end_time": "2023-04-02T08:29:35.669875",
     "exception": false,
     "start_time": "2023-04-02T08:29:35.654016",
     "status": "completed"
    },
    "tags": []
   },
   "outputs": [],
   "source": [
    "def attention(query, key, value, mask=None, dropout=None):\n",
    "    \"Compute 'Scaled Dot Product Attention'\"\n",
    "    d_k = query.size(-1)\n",
    "    scores = torch.matmul(query, key.transpose(-2, -1)) \\\n",
    "             / math.sqrt(d_k)\n",
    "    if mask is not None:\n",
    "        scores = scores.masked_fill(mask == 0, float('-Inf'))\n",
    "    p_attn = F.softmax(scores, dim = -1)\n",
    "    if dropout is not None:\n",
    "        p_attn = dropout(p_attn)\n",
    "    return torch.matmul(p_attn, value)#, p_attn"
   ]
  },
  {
   "cell_type": "markdown",
   "id": "961ff6a7",
   "metadata": {
    "papermill": {
     "duration": 0.005045,
     "end_time": "2023-04-02T08:29:35.680112",
     "exception": false,
     "start_time": "2023-04-02T08:29:35.675067",
     "status": "completed"
    },
    "tags": []
   },
   "source": [
    "The **xavier_normal_()** initialization function fills the input Tensor with values according to the method described in **Understanding the difficulty of training deep feedforward neural networks** - Glorot, X. & Bengio, Y. (2010), using a uniform distribution. The resulting tensor will have values sampled from a uniform distribution \\\\(\\mathcal{U}(-a, a)\\\\) where\n",
    "\n",
    "\\\\(    a = \\text{gain} \\times \\sqrt{\\frac{6}{\\text{fan\\_in} + \\text{fan\\_out}}}\\\\)\n",
    "\n",
    "Also known as Glorot initialization."
   ]
  },
  {
   "cell_type": "code",
   "execution_count": 14,
   "id": "9abfd207",
   "metadata": {
    "execution": {
     "iopub.execute_input": "2023-04-02T08:29:35.691732Z",
     "iopub.status.busy": "2023-04-02T08:29:35.691422Z",
     "iopub.status.idle": "2023-04-02T08:29:35.701765Z",
     "shell.execute_reply": "2023-04-02T08:29:35.700880Z"
    },
    "papermill": {
     "duration": 0.018538,
     "end_time": "2023-04-02T08:29:35.703777",
     "exception": false,
     "start_time": "2023-04-02T08:29:35.685239",
     "status": "completed"
    },
    "tags": []
   },
   "outputs": [],
   "source": [
    "class SelfAttention(nn.Module):\n",
    "    def __init__(self, embed_dim, bias=True):\n",
    "        super().__init__()\n",
    "        self.k_proj = nn.Linear(embed_dim, embed_dim, bias=bias)\n",
    "        self.v_proj = nn.Linear(embed_dim, embed_dim, bias=bias)\n",
    "        self.q_proj = nn.Linear(embed_dim, embed_dim, bias=bias)\n",
    "        self.out_proj = nn.Linear(embed_dim, embed_dim, bias=bias)\n",
    "        self.reset_parameters()\n",
    "\n",
    "    def reset_parameters(self):\n",
    "        # Empirically observed the convergence to be much better with the scaled initialization\n",
    "        nn.init.xavier_uniform_(self.k_proj.weight, gain=1 / math.sqrt(2))\n",
    "        nn.init.xavier_uniform_(self.v_proj.weight, gain=1 / math.sqrt(2))\n",
    "        nn.init.xavier_uniform_(self.q_proj.weight, gain=1 / math.sqrt(2))\n",
    "        nn.init.xavier_uniform_(self.out_proj.weight)\n",
    "        if self.out_proj.bias is not None:\n",
    "            nn.init.constant_(self.out_proj.bias, 0.)\n",
    "\n",
    "    # B = Batch size\n",
    "    # W = Number of context words (left + right)\n",
    "    # E = embedding_dim\n",
    "    def forward(self, x):\n",
    "        # x shape is (B, W, E)\n",
    "        q = self.q_proj(x)\n",
    "        # q shape is (B, W, E)\n",
    "        k = self.k_proj(x)\n",
    "        # k shape is (B, W, E)\n",
    "        v = self.v_proj(x)\n",
    "        # k shape is (B, W, E)\n",
    "        y, _ = attention(q, k, v)\n",
    "        # y shape is (B, W, E)\n",
    "        y = self.out_proj(y)\n",
    "        # y shape is (B, W, E)\n",
    "        return y"
   ]
  },
  {
   "cell_type": "code",
   "execution_count": 15,
   "id": "05005ff2",
   "metadata": {
    "execution": {
     "iopub.execute_input": "2023-04-02T08:29:35.716070Z",
     "iopub.status.busy": "2023-04-02T08:29:35.715230Z",
     "iopub.status.idle": "2023-04-02T08:29:35.728198Z",
     "shell.execute_reply": "2023-04-02T08:29:35.727092Z"
    },
    "papermill": {
     "duration": 0.021312,
     "end_time": "2023-04-02T08:29:35.730336",
     "exception": false,
     "start_time": "2023-04-02T08:29:35.709024",
     "status": "completed"
    },
    "tags": []
   },
   "outputs": [],
   "source": [
    "class MultiHeadAttention(nn.Module):\n",
    "    \n",
    "    def __init__(self, embed_dim, num_heads=4, bias=True):\n",
    "        super().__init__()\n",
    "        \n",
    "        assert(embed_dim%num_heads==0)\n",
    "        self.num_heads = num_heads\n",
    "        self.head_dim = embed_dim // num_heads\n",
    "        \n",
    "        self.k_proj = nn.ModuleList([nn.Linear(self.head_dim, self.head_dim, bias=bias) for i in range (num_heads)])\n",
    "        self.v_proj = nn.ModuleList([nn.Linear(self.head_dim, self.head_dim, bias=bias) for i in range (num_heads)])\n",
    "        self.q_proj = nn.ModuleList([nn.Linear(self.head_dim, self.head_dim, bias=bias) for i in range (num_heads)])\n",
    "        self.out_proj = nn.Linear(embed_dim, embed_dim, bias=bias)\n",
    "        self.reset_parameters()\n",
    "    \n",
    "    def reset_parameters(self):\n",
    "        # Empirically observed the convergence to be much better with the scaled initialization\n",
    "        for i in range (self.num_heads):\n",
    "            nn.init.xavier_uniform_(self.k_proj[i].weight, gain=1 / math.sqrt(2))\n",
    "            nn.init.xavier_uniform_(self.q_proj[i].weight, gain=1 / math.sqrt(2))\n",
    "            nn.init.xavier_uniform_(self.v_proj[i].weight, gain=1 / math.sqrt(2))\n",
    "        nn.init.xavier_uniform_(self.out_proj.weight)\n",
    "        if self.out_proj.bias is not None:\n",
    "            nn.init.constant_(self.out_proj.bias, 0.)\n",
    "\n",
    "    def forward(self, x):\n",
    "        # x shape is (B, W, E)\n",
    "        x = torch.split(x, self.head_dim, dim=2)\n",
    "        q = [self.q_proj[i](x[i]) for i in range(self.num_heads)]\n",
    "        k = [self.k_proj[i](x[i]) for i in range(self.num_heads)]\n",
    "        v = [self.v_proj[i](x[i]) for i in range(self.num_heads)]\n",
    "\n",
    "        # Determine output\n",
    "        y = [attention(q[i], k[i], v[i]) for i in range(self.num_heads)]\n",
    "        # Concatenar aquí\n",
    "        y = torch.cat(y, dim=2)\n",
    "        y = self.out_proj(y)\n",
    "        return y"
   ]
  },
  {
   "cell_type": "code",
   "execution_count": 16,
   "id": "41bfd9a0",
   "metadata": {
    "execution": {
     "iopub.execute_input": "2023-04-02T08:29:35.742066Z",
     "iopub.status.busy": "2023-04-02T08:29:35.741743Z",
     "iopub.status.idle": "2023-04-02T08:29:35.749979Z",
     "shell.execute_reply": "2023-04-02T08:29:35.748945Z"
    },
    "papermill": {
     "duration": 0.016464,
     "end_time": "2023-04-02T08:29:35.752163",
     "exception": false,
     "start_time": "2023-04-02T08:29:35.735699",
     "status": "completed"
    },
    "tags": []
   },
   "outputs": [],
   "source": [
    "class TransformerLayer(nn.Module):\n",
    "    def __init__(self, d_model, dim_feedforward=512, dropout=0.1, activation=\"relu\"):\n",
    "        super().__init__()\n",
    "        # Multi Head Attention\n",
    "        self.self_attn = MultiHeadAttention(d_model)\n",
    "        # Implementation of Feedforward model\n",
    "        self.linear1 = nn.Linear(d_model, dim_feedforward)\n",
    "        self.dropout = nn.Dropout(dropout)\n",
    "        self.linear2 = nn.Linear(dim_feedforward, d_model)\n",
    "        self.norm1 = nn.LayerNorm(d_model)\n",
    "        self.norm2 = nn.LayerNorm(d_model)\n",
    "        self.dropout1 = nn.Dropout(dropout)\n",
    "        self.dropout2 = nn.Dropout(dropout)\n",
    "\n",
    "    def forward(self, src):\n",
    "        src2 = self.self_attn(src)\n",
    "        src = src + self.dropout1(src2)\n",
    "        src = self.norm1(src)\n",
    "        src2 = self.linear2(self.dropout(F.relu(self.linear1(src))))\n",
    "        src = src + self.dropout2(src2)\n",
    "        src = self.norm2(src)\n",
    "        return src"
   ]
  },
  {
   "cell_type": "code",
   "execution_count": 17,
   "id": "79b67862",
   "metadata": {
    "execution": {
     "iopub.execute_input": "2023-04-02T08:29:35.763557Z",
     "iopub.status.busy": "2023-04-02T08:29:35.763277Z",
     "iopub.status.idle": "2023-04-02T08:29:35.771248Z",
     "shell.execute_reply": "2023-04-02T08:29:35.770282Z"
    },
    "papermill": {
     "duration": 0.016319,
     "end_time": "2023-04-02T08:29:35.773470",
     "exception": false,
     "start_time": "2023-04-02T08:29:35.757151",
     "status": "completed"
    },
    "tags": []
   },
   "outputs": [],
   "source": [
    "class Predictor(nn.Module):\n",
    "    def __init__(self, num_embeddings, embedding_dim, context_words=params.window_size-1):\n",
    "        super().__init__()\n",
    "        self.emb = nn.Embedding(num_embeddings, embedding_dim, padding_idx=0)\n",
    "        self.lin = nn.Linear(embedding_dim, num_embeddings, bias=False)\n",
    "        self.att1 = TransformerLayer(embedding_dim)\n",
    "        self.att2 = TransformerLayer(embedding_dim)\n",
    "        self.att3 = TransformerLayer(embedding_dim)\n",
    "        self.meanpool = nn.AvgPool1d(kernel_size=context_words, stride=context_words)\n",
    "        self.position_embedding = nn.Parameter(torch.Tensor(context_words, embedding_dim))\n",
    "        nn.init.xavier_uniform_(self.position_embedding)\n",
    "\n",
    "    # B = Batch size\n",
    "    # W = Number of context words (left + right)\n",
    "    # E = embedding_dim\n",
    "    # V = num_embeddings (number of words)\n",
    "    def forward(self, input):\n",
    "        # input shape is (B, W)\n",
    "        e = self.emb(input)\n",
    "        # e shape is (B, W, E)\n",
    "        u = e + self.position_embedding\n",
    "        # u shape is (B, W, E)\n",
    "        \n",
    "        v = self.att1(u)\n",
    "        v2 = self.att2(v)\n",
    "        v3 = self.att3(v2)\n",
    "        \n",
    "        x = self.meanpool(v3.transpose(1,2)).squeeze()\n",
    "        # x shape is (B, E)\n",
    "        \n",
    "        y = self.lin(x)\n",
    "        # y shape is (B, V)\n",
    "        return y"
   ]
  },
  {
   "cell_type": "code",
   "execution_count": 18,
   "id": "ff25d3a3",
   "metadata": {
    "execution": {
     "iopub.execute_input": "2023-04-02T08:29:35.784818Z",
     "iopub.status.busy": "2023-04-02T08:29:35.784546Z",
     "iopub.status.idle": "2023-04-02T08:29:38.996455Z",
     "shell.execute_reply": "2023-04-02T08:29:38.995436Z"
    },
    "papermill": {
     "duration": 3.220605,
     "end_time": "2023-04-02T08:29:38.999053",
     "exception": false,
     "start_time": "2023-04-02T08:29:35.778448",
     "status": "completed"
    },
    "tags": []
   },
   "outputs": [],
   "source": [
    "model = Predictor(len(vocab), params.embedding_dim).to(device)"
   ]
  },
  {
   "cell_type": "code",
   "execution_count": 19,
   "id": "9b4a8758",
   "metadata": {
    "execution": {
     "iopub.execute_input": "2023-04-02T08:29:39.011078Z",
     "iopub.status.busy": "2023-04-02T08:29:39.010733Z",
     "iopub.status.idle": "2023-04-02T08:29:39.017349Z",
     "shell.execute_reply": "2023-04-02T08:29:39.016428Z"
    },
    "papermill": {
     "duration": 0.016701,
     "end_time": "2023-04-02T08:29:39.021057",
     "exception": false,
     "start_time": "2023-04-02T08:29:39.004356",
     "status": "completed"
    },
    "tags": []
   },
   "outputs": [
    {
     "name": "stdout",
     "output_type": "stream",
     "text": [
      "Predictor(\n",
      "  (emb): Embedding(100002, 300, padding_idx=0)\n",
      "  (lin): Linear(in_features=300, out_features=100002, bias=False)\n",
      "  (att): TransformerLayer(\n",
      "    (self_attn): MultiHeadAttention(\n",
      "      (k_proj): ModuleList(\n",
      "        (0): Linear(in_features=75, out_features=75, bias=True)\n",
      "        (1): Linear(in_features=75, out_features=75, bias=True)\n",
      "        (2): Linear(in_features=75, out_features=75, bias=True)\n",
      "        (3): Linear(in_features=75, out_features=75, bias=True)\n",
      "      )\n",
      "      (v_proj): ModuleList(\n",
      "        (0): Linear(in_features=75, out_features=75, bias=True)\n",
      "        (1): Linear(in_features=75, out_features=75, bias=True)\n",
      "        (2): Linear(in_features=75, out_features=75, bias=True)\n",
      "        (3): Linear(in_features=75, out_features=75, bias=True)\n",
      "      )\n",
      "      (q_proj): ModuleList(\n",
      "        (0): Linear(in_features=75, out_features=75, bias=True)\n",
      "        (1): Linear(in_features=75, out_features=75, bias=True)\n",
      "        (2): Linear(in_features=75, out_features=75, bias=True)\n",
      "        (3): Linear(in_features=75, out_features=75, bias=True)\n",
      "      )\n",
      "      (out_proj): Linear(in_features=300, out_features=300, bias=True)\n",
      "    )\n",
      "    (linear1): Linear(in_features=300, out_features=512, bias=True)\n",
      "    (dropout): Dropout(p=0.1, inplace=False)\n",
      "    (linear2): Linear(in_features=512, out_features=300, bias=True)\n",
      "    (norm1): LayerNorm((300,), eps=1e-05, elementwise_affine=True)\n",
      "    (norm2): LayerNorm((300,), eps=1e-05, elementwise_affine=True)\n",
      "    (dropout1): Dropout(p=0.1, inplace=False)\n",
      "    (dropout2): Dropout(p=0.1, inplace=False)\n",
      "  )\n",
      "  (meanpool): AvgPool1d(kernel_size=(6,), stride=(6,), padding=(0,))\n",
      ")\n",
      "position_embedding   1800 [6, 300]\n",
      "emb.weight           30000600 [100002, 300]\n",
      "lin.weight           30000600 [100002, 300]\n",
      "att.self_attn.k_proj.0.weight 5625 [75, 75]\n",
      "att.self_attn.k_proj.0.bias 75 [75]\n",
      "att.self_attn.k_proj.1.weight 5625 [75, 75]\n",
      "att.self_attn.k_proj.1.bias 75 [75]\n",
      "att.self_attn.k_proj.2.weight 5625 [75, 75]\n",
      "att.self_attn.k_proj.2.bias 75 [75]\n",
      "att.self_attn.k_proj.3.weight 5625 [75, 75]\n",
      "att.self_attn.k_proj.3.bias 75 [75]\n",
      "att.self_attn.v_proj.0.weight 5625 [75, 75]\n",
      "att.self_attn.v_proj.0.bias 75 [75]\n",
      "att.self_attn.v_proj.1.weight 5625 [75, 75]\n",
      "att.self_attn.v_proj.1.bias 75 [75]\n",
      "att.self_attn.v_proj.2.weight 5625 [75, 75]\n",
      "att.self_attn.v_proj.2.bias 75 [75]\n",
      "att.self_attn.v_proj.3.weight 5625 [75, 75]\n",
      "att.self_attn.v_proj.3.bias 75 [75]\n",
      "att.self_attn.q_proj.0.weight 5625 [75, 75]\n",
      "att.self_attn.q_proj.0.bias 75 [75]\n",
      "att.self_attn.q_proj.1.weight 5625 [75, 75]\n",
      "att.self_attn.q_proj.1.bias 75 [75]\n",
      "att.self_attn.q_proj.2.weight 5625 [75, 75]\n",
      "att.self_attn.q_proj.2.bias 75 [75]\n",
      "att.self_attn.q_proj.3.weight 5625 [75, 75]\n",
      "att.self_attn.q_proj.3.bias 75 [75]\n",
      "att.self_attn.out_proj.weight 90000 [300, 300]\n",
      "att.self_attn.out_proj.bias 300 [300]\n",
      "att.linear1.weight   153600 [512, 300]\n",
      "att.linear1.bias     512 [512]\n",
      "att.linear2.weight   153600 [300, 512]\n",
      "att.linear2.bias     300 [300]\n",
      "att.norm1.weight     300 [300]\n",
      "att.norm1.bias       300 [300]\n",
      "att.norm2.weight     300 [300]\n",
      "att.norm2.bias       300 [300]\n",
      "TOTAL                60470912\n"
     ]
    }
   ],
   "source": [
    "print(model)\n",
    "for name, param in model.named_parameters():\n",
    "    print(f'{name:20} {param.numel()} {list(param.shape)}')\n",
    "print(f'TOTAL                {sum(p.numel() for p in model.parameters())}')"
   ]
  },
  {
   "cell_type": "code",
   "execution_count": 20,
   "id": "7128cd1e",
   "metadata": {
    "execution": {
     "iopub.execute_input": "2023-04-02T08:29:39.032668Z",
     "iopub.status.busy": "2023-04-02T08:29:39.032363Z",
     "iopub.status.idle": "2023-04-02T13:55:33.165648Z",
     "shell.execute_reply": "2023-04-02T13:55:33.164720Z"
    },
    "papermill": {
     "duration": 19554.142156,
     "end_time": "2023-04-02T13:55:33.168349",
     "exception": false,
     "start_time": "2023-04-02T08:29:39.026193",
     "status": "completed"
    },
    "tags": []
   },
   "outputs": [
    {
     "name": "stdout",
     "output_type": "stream",
     "text": [
      "Train: wpb=2048, num_updates=200, accuracy=7.4, loss=7.55\n",
      "Train: wpb=2048, num_updates=500, accuracy=15.9, loss=6.54\n",
      "Train: wpb=2048, num_updates=1000, accuracy=21.9, loss=5.85\n",
      "Train: wpb=2048, num_updates=2000, accuracy=26.9, loss=5.29\n",
      "Train: wpb=2048, num_updates=3000, accuracy=29.5, loss=5.00\n",
      "Train: wpb=2048, num_updates=4000, accuracy=31.2, loss=4.82\n",
      "Train: wpb=2048, num_updates=5000, accuracy=32.4, loss=4.68\n",
      "Train: wpb=2048, num_updates=6000, accuracy=33.3, loss=4.58\n",
      "Train: wpb=2048, num_updates=7000, accuracy=34.1, loss=4.49\n",
      "Train: wpb=2048, num_updates=8000, accuracy=34.7, loss=4.42\n",
      "Train: wpb=2048, num_updates=9000, accuracy=35.3, loss=4.36\n",
      "Train: wpb=2048, num_updates=10000, accuracy=35.8, loss=4.30\n",
      "Train: wpb=2048, num_updates=11000, accuracy=36.2, loss=4.25\n",
      "Train: wpb=2048, num_updates=12000, accuracy=36.6, loss=4.21\n",
      "Train: wpb=2048, num_updates=13000, accuracy=36.9, loss=4.17\n",
      "Train: wpb=2048, num_updates=14000, accuracy=37.2, loss=4.14\n",
      "Train: wpb=2048, num_updates=15000, accuracy=37.5, loss=4.11\n",
      "Train: wpb=2048, num_updates=16000, accuracy=37.8, loss=4.08\n",
      "Train: wpb=2048, num_updates=17000, accuracy=38.0, loss=4.05\n",
      "Train: wpb=2048, num_updates=18000, accuracy=38.2, loss=4.02\n",
      "Train: wpb=2048, num_updates=19000, accuracy=38.5, loss=4.00\n",
      "Train: wpb=2048, num_updates=20000, accuracy=38.7, loss=3.97\n",
      "Train: wpb=2048, num_updates=21000, accuracy=38.8, loss=3.95\n",
      "Train: wpb=2048, num_updates=22000, accuracy=39.0, loss=3.93\n",
      "Train: wpb=2048, num_updates=23000, accuracy=39.2, loss=3.91\n",
      "Train: wpb=2048, num_updates=24000, accuracy=39.3, loss=3.90\n",
      "Train: wpb=2048, num_updates=25000, accuracy=39.5, loss=3.88\n",
      "Train: wpb=2048, num_updates=26000, accuracy=39.6, loss=3.86\n",
      "Train: wpb=2048, num_updates=27000, accuracy=39.8, loss=3.85\n",
      "Train: wpb=2048, num_updates=28000, accuracy=39.9, loss=3.83\n",
      "Train: wpb=2048, num_updates=29000, accuracy=40.0, loss=3.82\n",
      "Train: wpb=2048, num_updates=30000, accuracy=40.2, loss=3.80\n",
      "Train: wpb=2048, num_updates=31000, accuracy=40.3, loss=3.79\n",
      "Train: wpb=2048, num_updates=32000, accuracy=40.4, loss=3.78\n",
      "Train: wpb=2048, num_updates=33000, accuracy=40.5, loss=3.77\n",
      "Train: wpb=2048, num_updates=34000, accuracy=40.6, loss=3.76\n",
      "Train: wpb=2048, num_updates=35000, accuracy=40.7, loss=3.74\n",
      "Train: wpb=2048, num_updates=36000, accuracy=40.8, loss=3.73\n",
      "Train: wpb=2048, num_updates=37000, accuracy=40.9, loss=3.72\n",
      "Train: wpb=2048, num_updates=38000, accuracy=41.0, loss=3.71\n",
      "Train: wpb=2048, num_updates=39000, accuracy=41.1, loss=3.70\n",
      "Train: wpb=2048, num_updates=40000, accuracy=41.2, loss=3.69\n",
      "Train: wpb=2047, num_updates=40178, accuracy=41.2, loss=3.69\n",
      "| epoch 000 | train accuracy=41.2%, train loss=3.69\n",
      "| epoch 000 | valid accuracy=43.7%, valid loss=3.39 (wikipedia)\n",
      "| epoch 000 | valid accuracy=33.8%, valid loss=4.26 (El Periódico)\n",
      "Train: wpb=2048, num_updates=200, accuracy=44.9, loss=3.24\n",
      "Train: wpb=2048, num_updates=500, accuracy=44.9, loss=3.24\n",
      "Train: wpb=2048, num_updates=1000, accuracy=44.9, loss=3.25\n",
      "Train: wpb=2048, num_updates=2000, accuracy=44.9, loss=3.25\n",
      "Train: wpb=2048, num_updates=3000, accuracy=44.9, loss=3.25\n",
      "Train: wpb=2048, num_updates=4000, accuracy=44.9, loss=3.25\n",
      "Train: wpb=2048, num_updates=5000, accuracy=44.9, loss=3.24\n",
      "Train: wpb=2048, num_updates=6000, accuracy=45.0, loss=3.24\n",
      "Train: wpb=2048, num_updates=7000, accuracy=45.0, loss=3.24\n",
      "Train: wpb=2048, num_updates=8000, accuracy=45.0, loss=3.24\n",
      "Train: wpb=2048, num_updates=9000, accuracy=45.0, loss=3.24\n",
      "Train: wpb=2048, num_updates=10000, accuracy=45.1, loss=3.24\n",
      "Train: wpb=2048, num_updates=11000, accuracy=45.1, loss=3.24\n",
      "Train: wpb=2048, num_updates=12000, accuracy=45.1, loss=3.23\n",
      "Train: wpb=2048, num_updates=13000, accuracy=45.1, loss=3.23\n",
      "Train: wpb=2048, num_updates=14000, accuracy=45.2, loss=3.23\n",
      "Train: wpb=2048, num_updates=15000, accuracy=45.2, loss=3.23\n",
      "Train: wpb=2048, num_updates=16000, accuracy=45.2, loss=3.23\n",
      "Train: wpb=2048, num_updates=17000, accuracy=45.2, loss=3.23\n",
      "Train: wpb=2048, num_updates=18000, accuracy=45.3, loss=3.22\n",
      "Train: wpb=2048, num_updates=19000, accuracy=45.3, loss=3.22\n",
      "Train: wpb=2048, num_updates=20000, accuracy=45.3, loss=3.22\n",
      "Train: wpb=2048, num_updates=21000, accuracy=45.3, loss=3.22\n",
      "Train: wpb=2048, num_updates=22000, accuracy=45.3, loss=3.22\n",
      "Train: wpb=2048, num_updates=23000, accuracy=45.4, loss=3.22\n",
      "Train: wpb=2048, num_updates=24000, accuracy=45.4, loss=3.21\n",
      "Train: wpb=2048, num_updates=25000, accuracy=45.4, loss=3.21\n",
      "Train: wpb=2048, num_updates=26000, accuracy=45.4, loss=3.21\n",
      "Train: wpb=2048, num_updates=27000, accuracy=45.4, loss=3.21\n",
      "Train: wpb=2048, num_updates=28000, accuracy=45.5, loss=3.21\n",
      "Train: wpb=2048, num_updates=29000, accuracy=45.5, loss=3.21\n",
      "Train: wpb=2048, num_updates=30000, accuracy=45.5, loss=3.21\n",
      "Train: wpb=2048, num_updates=31000, accuracy=45.5, loss=3.20\n",
      "Train: wpb=2048, num_updates=32000, accuracy=45.5, loss=3.20\n",
      "Train: wpb=2048, num_updates=33000, accuracy=45.6, loss=3.20\n",
      "Train: wpb=2048, num_updates=34000, accuracy=45.6, loss=3.20\n",
      "Train: wpb=2048, num_updates=35000, accuracy=45.6, loss=3.20\n",
      "Train: wpb=2048, num_updates=36000, accuracy=45.6, loss=3.20\n",
      "Train: wpb=2048, num_updates=37000, accuracy=45.6, loss=3.19\n",
      "Train: wpb=2048, num_updates=38000, accuracy=45.6, loss=3.19\n",
      "Train: wpb=2048, num_updates=39000, accuracy=45.7, loss=3.19\n",
      "Train: wpb=2048, num_updates=40000, accuracy=45.7, loss=3.19\n",
      "Train: wpb=2047, num_updates=40178, accuracy=45.7, loss=3.19\n",
      "| epoch 001 | train accuracy=45.7%, train loss=3.19\n",
      "| epoch 001 | valid accuracy=45.2%, valid loss=3.24 (wikipedia)\n",
      "| epoch 001 | valid accuracy=35.0%, valid loss=4.13 (El Periódico)\n",
      "Train: wpb=2048, num_updates=200, accuracy=46.8, loss=3.04\n",
      "Train: wpb=2048, num_updates=500, accuracy=46.8, loss=3.04\n",
      "Train: wpb=2048, num_updates=1000, accuracy=46.8, loss=3.05\n",
      "Train: wpb=2048, num_updates=2000, accuracy=46.8, loss=3.05\n",
      "Train: wpb=2048, num_updates=3000, accuracy=46.8, loss=3.05\n",
      "Train: wpb=2048, num_updates=4000, accuracy=46.8, loss=3.05\n",
      "Train: wpb=2048, num_updates=5000, accuracy=46.8, loss=3.05\n",
      "Train: wpb=2048, num_updates=6000, accuracy=46.8, loss=3.05\n",
      "Train: wpb=2048, num_updates=7000, accuracy=46.8, loss=3.05\n",
      "Train: wpb=2048, num_updates=8000, accuracy=46.8, loss=3.05\n",
      "Train: wpb=2048, num_updates=9000, accuracy=46.8, loss=3.05\n",
      "Train: wpb=2048, num_updates=10000, accuracy=46.8, loss=3.05\n",
      "Train: wpb=2048, num_updates=11000, accuracy=46.8, loss=3.05\n",
      "Train: wpb=2048, num_updates=12000, accuracy=46.8, loss=3.05\n",
      "Train: wpb=2048, num_updates=13000, accuracy=46.9, loss=3.05\n",
      "Train: wpb=2048, num_updates=14000, accuracy=46.9, loss=3.05\n",
      "Train: wpb=2048, num_updates=15000, accuracy=46.9, loss=3.05\n",
      "Train: wpb=2048, num_updates=16000, accuracy=46.9, loss=3.05\n",
      "Train: wpb=2048, num_updates=17000, accuracy=46.9, loss=3.05\n",
      "Train: wpb=2048, num_updates=18000, accuracy=46.9, loss=3.05\n",
      "Train: wpb=2048, num_updates=19000, accuracy=46.9, loss=3.05\n",
      "Train: wpb=2048, num_updates=20000, accuracy=46.9, loss=3.05\n",
      "Train: wpb=2048, num_updates=21000, accuracy=46.9, loss=3.05\n",
      "Train: wpb=2048, num_updates=22000, accuracy=46.9, loss=3.05\n",
      "Train: wpb=2048, num_updates=23000, accuracy=46.9, loss=3.05\n",
      "Train: wpb=2048, num_updates=24000, accuracy=46.9, loss=3.05\n",
      "Train: wpb=2048, num_updates=25000, accuracy=46.9, loss=3.05\n",
      "Train: wpb=2048, num_updates=26000, accuracy=47.0, loss=3.05\n",
      "Train: wpb=2048, num_updates=27000, accuracy=47.0, loss=3.05\n",
      "Train: wpb=2048, num_updates=28000, accuracy=47.0, loss=3.05\n",
      "Train: wpb=2048, num_updates=29000, accuracy=47.0, loss=3.05\n",
      "Train: wpb=2048, num_updates=30000, accuracy=47.0, loss=3.05\n",
      "Train: wpb=2048, num_updates=31000, accuracy=47.0, loss=3.05\n",
      "Train: wpb=2048, num_updates=32000, accuracy=47.0, loss=3.05\n",
      "Train: wpb=2048, num_updates=33000, accuracy=47.0, loss=3.05\n",
      "Train: wpb=2048, num_updates=34000, accuracy=47.0, loss=3.05\n",
      "Train: wpb=2048, num_updates=35000, accuracy=47.0, loss=3.05\n",
      "Train: wpb=2048, num_updates=36000, accuracy=47.0, loss=3.05\n",
      "Train: wpb=2048, num_updates=37000, accuracy=47.0, loss=3.05\n",
      "Train: wpb=2048, num_updates=38000, accuracy=47.0, loss=3.05\n",
      "Train: wpb=2048, num_updates=39000, accuracy=47.0, loss=3.05\n",
      "Train: wpb=2048, num_updates=40000, accuracy=47.1, loss=3.05\n",
      "Train: wpb=2047, num_updates=40178, accuracy=47.1, loss=3.05\n",
      "| epoch 002 | train accuracy=47.1%, train loss=3.05\n",
      "| epoch 002 | valid accuracy=46.1%, valid loss=3.16 (wikipedia)\n",
      "| epoch 002 | valid accuracy=35.6%, valid loss=4.05 (El Periódico)\n",
      "Train: wpb=2048, num_updates=200, accuracy=47.8, loss=2.94\n",
      "Train: wpb=2048, num_updates=500, accuracy=47.8, loss=2.94\n",
      "Train: wpb=2048, num_updates=1000, accuracy=47.8, loss=2.94\n",
      "Train: wpb=2048, num_updates=2000, accuracy=47.8, loss=2.94\n",
      "Train: wpb=2048, num_updates=3000, accuracy=47.8, loss=2.95\n",
      "Train: wpb=2048, num_updates=4000, accuracy=47.8, loss=2.95\n",
      "Train: wpb=2048, num_updates=5000, accuracy=47.8, loss=2.95\n",
      "Train: wpb=2048, num_updates=6000, accuracy=47.8, loss=2.95\n",
      "Train: wpb=2048, num_updates=7000, accuracy=47.8, loss=2.95\n",
      "Train: wpb=2048, num_updates=8000, accuracy=47.8, loss=2.95\n",
      "Train: wpb=2048, num_updates=9000, accuracy=47.8, loss=2.95\n",
      "Train: wpb=2048, num_updates=10000, accuracy=47.8, loss=2.95\n",
      "Train: wpb=2048, num_updates=11000, accuracy=47.8, loss=2.96\n",
      "Train: wpb=2048, num_updates=12000, accuracy=47.8, loss=2.96\n",
      "Train: wpb=2048, num_updates=13000, accuracy=47.8, loss=2.96\n",
      "Train: wpb=2048, num_updates=14000, accuracy=47.8, loss=2.96\n",
      "Train: wpb=2048, num_updates=15000, accuracy=47.8, loss=2.96\n",
      "Train: wpb=2048, num_updates=16000, accuracy=47.8, loss=2.96\n",
      "Train: wpb=2048, num_updates=17000, accuracy=47.8, loss=2.96\n",
      "Train: wpb=2048, num_updates=18000, accuracy=47.8, loss=2.96\n",
      "Train: wpb=2048, num_updates=19000, accuracy=47.8, loss=2.96\n",
      "Train: wpb=2048, num_updates=20000, accuracy=47.8, loss=2.96\n",
      "Train: wpb=2048, num_updates=21000, accuracy=47.8, loss=2.96\n",
      "Train: wpb=2048, num_updates=22000, accuracy=47.8, loss=2.96\n",
      "Train: wpb=2048, num_updates=23000, accuracy=47.8, loss=2.96\n",
      "Train: wpb=2048, num_updates=24000, accuracy=47.8, loss=2.96\n",
      "Train: wpb=2048, num_updates=25000, accuracy=47.8, loss=2.96\n",
      "Train: wpb=2048, num_updates=26000, accuracy=47.8, loss=2.96\n",
      "Train: wpb=2048, num_updates=27000, accuracy=47.8, loss=2.96\n",
      "Train: wpb=2048, num_updates=28000, accuracy=47.8, loss=2.96\n",
      "Train: wpb=2048, num_updates=29000, accuracy=47.8, loss=2.96\n",
      "Train: wpb=2048, num_updates=30000, accuracy=47.8, loss=2.96\n",
      "Train: wpb=2048, num_updates=31000, accuracy=47.9, loss=2.96\n",
      "Train: wpb=2048, num_updates=32000, accuracy=47.9, loss=2.96\n",
      "Train: wpb=2048, num_updates=33000, accuracy=47.9, loss=2.96\n",
      "Train: wpb=2048, num_updates=34000, accuracy=47.9, loss=2.96\n",
      "Train: wpb=2048, num_updates=35000, accuracy=47.9, loss=2.96\n",
      "Train: wpb=2048, num_updates=36000, accuracy=47.9, loss=2.96\n",
      "Train: wpb=2048, num_updates=37000, accuracy=47.9, loss=2.96\n",
      "Train: wpb=2048, num_updates=38000, accuracy=47.9, loss=2.96\n",
      "Train: wpb=2048, num_updates=39000, accuracy=47.9, loss=2.96\n",
      "Train: wpb=2048, num_updates=40000, accuracy=47.9, loss=2.96\n",
      "Train: wpb=2047, num_updates=40178, accuracy=47.9, loss=2.96\n",
      "| epoch 003 | train accuracy=47.9%, train loss=2.96\n",
      "| epoch 003 | valid accuracy=46.6%, valid loss=3.11 (wikipedia)\n",
      "| epoch 003 | valid accuracy=36.0%, valid loss=4.03 (El Periódico)\n"
     ]
    }
   ],
   "source": [
    "optimizer = torch.optim.Adam(model.parameters())\n",
    "criterion = nn.CrossEntropyLoss(reduction='sum')\n",
    "\n",
    "train_accuracy = []\n",
    "wiki_accuracy = []\n",
    "valid_accuracy = []\n",
    "for epoch in range(params.epochs):\n",
    "    acc, loss = train(model, criterion, optimizer, data[0][0], data[0][1], params.batch_size, device, log=True)\n",
    "    train_accuracy.append(acc)\n",
    "    print(f'| epoch {epoch:03d} | train accuracy={acc:.1f}%, train loss={loss:.2f}')\n",
    "    acc, loss = validate(model, criterion, data[1][0], data[1][1], params.batch_size, device)\n",
    "    wiki_accuracy.append(acc)\n",
    "    print(f'| epoch {epoch:03d} | valid accuracy={acc:.1f}%, valid loss={loss:.2f} (wikipedia)')\n",
    "    acc, loss = validate(model, criterion, valid_x, valid_y, params.batch_size, device)\n",
    "    valid_accuracy.append(acc)\n",
    "    print(f'| epoch {epoch:03d} | valid accuracy={acc:.1f}%, valid loss={loss:.2f} (El Periódico)')\n",
    "\n",
    "# Save model\n",
    "torch.save(model.state_dict(), params.modelname)"
   ]
  },
  {
   "cell_type": "code",
   "execution_count": 21,
   "id": "8cdc59a9",
   "metadata": {
    "execution": {
     "iopub.execute_input": "2023-04-02T13:55:33.199823Z",
     "iopub.status.busy": "2023-04-02T13:55:33.198867Z",
     "iopub.status.idle": "2023-04-02T13:55:33.621030Z",
     "shell.execute_reply": "2023-04-02T13:55:33.619881Z"
    },
    "papermill": {
     "duration": 0.440516,
     "end_time": "2023-04-02T13:55:33.623665",
     "exception": false,
     "start_time": "2023-04-02T13:55:33.183149",
     "status": "completed"
    },
    "tags": []
   },
   "outputs": [],
   "source": [
    "# 'El Periodico' test dataset\n",
    "valid_x_df = pd.read_csv(f'{COMPETITION_ROOT}/x_test.csv')\n",
    "test_x = valid_x_df[tokens].apply(vocab.get_index).to_numpy(dtype='int32')\n",
    "y_pred = validate(model, None, test_x, None, params.batch_size, device)\n",
    "y_token = [vocab.get_token(index) for index in y_pred]"
   ]
  },
  {
   "cell_type": "code",
   "execution_count": 22,
   "id": "a62168ad",
   "metadata": {
    "execution": {
     "iopub.execute_input": "2023-04-02T13:55:33.670373Z",
     "iopub.status.busy": "2023-04-02T13:55:33.670034Z",
     "iopub.status.idle": "2023-04-02T13:55:33.703121Z",
     "shell.execute_reply": "2023-04-02T13:55:33.702193Z"
    },
    "papermill": {
     "duration": 0.052286,
     "end_time": "2023-04-02T13:55:33.705200",
     "exception": false,
     "start_time": "2023-04-02T13:55:33.652914",
     "status": "completed"
    },
    "tags": []
   },
   "outputs": [
    {
     "name": "stdout",
     "output_type": "stream",
     "text": [
      "   id  token\n",
      "0   0      l\n",
      "1   1      s\n",
      "2   2  haver\n",
      "3   3     no\n",
      "4   4     el\n"
     ]
    }
   ],
   "source": [
    "submission = pd.DataFrame({'id':valid_x_df['id'], 'token': y_token}, columns=['id', 'token'])\n",
    "print(submission.head())\n",
    "submission.to_csv('submission.csv', index=False)"
   ]
  },
  {
   "cell_type": "code",
   "execution_count": null,
   "id": "d17c781d",
   "metadata": {
    "papermill": {
     "duration": 0.013923,
     "end_time": "2023-04-02T13:55:33.733375",
     "exception": false,
     "start_time": "2023-04-02T13:55:33.719452",
     "status": "completed"
    },
    "tags": []
   },
   "outputs": [],
   "source": []
  }
 ],
 "metadata": {
  "kernelspec": {
   "display_name": "Python 3 (ipykernel)",
   "language": "python",
   "name": "python3"
  },
  "language_info": {
   "codemirror_mode": {
    "name": "ipython",
    "version": 3
   },
   "file_extension": ".py",
   "mimetype": "text/x-python",
   "name": "python",
   "nbconvert_exporter": "python",
   "pygments_lexer": "ipython3",
   "version": "3.10.9"
  },
  "papermill": {
   "default_parameters": {},
   "duration": 19587.650269,
   "end_time": "2023-04-02T13:55:34.899233",
   "environment_variables": {},
   "exception": null,
   "input_path": "__notebook__.ipynb",
   "output_path": "__notebook__.ipynb",
   "parameters": {},
   "start_time": "2023-04-02T08:29:07.248964",
   "version": "2.3.4"
  }
 },
 "nbformat": 4,
 "nbformat_minor": 5
}
